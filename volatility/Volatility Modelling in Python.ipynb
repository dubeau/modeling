{
 "cells": [
  {
   "cell_type": "markdown",
   "metadata": {},
   "source": [
    "# Volatility Modelling in Python\n",
    "\n",
    "This tutorial demonstrates the use of Python tools and libraries applied to volatility modelling, more specifically the generalized autoregressive conditional heteroscedasticity (GARCH) model.\n",
    "\n",
    "Working with financial data, we are often faced with processing time series, that is sequences of discrete time data (e.g. the daily closing value of a stock market index). To work with such data, we often use parametric models in the time-domain.\n",
    "\n",
    "A GARCH model is essentially an autoregressive conditional heteroskedasticity model for which an autoregressive moving average model (ARMA model) is assumed for the error variance."
   ]
  },
  {
   "cell_type": "markdown",
   "metadata": {},
   "source": [
    "## Getting the data\n",
    "\n",
    "The first step of our tutorial is to get the data. For this tutorial, we will use the adjusted closing price of 10 stocks (the adjustment is done to account for the dividends and the splits).\n",
    "\n",
    "The pandas_datareader library could prove useful for this task (note that such tools are very sensitive to changes in the target API). However, this will be the subject of some other tutorial. For now, let's just read the local files."
   ]
  },
  {
   "cell_type": "code",
   "execution_count": 1,
   "metadata": {},
   "outputs": [
    {
     "data": {
      "text/html": [
       "<div>\n",
       "<table border=\"1\" class=\"dataframe\">\n",
       "  <thead>\n",
       "    <tr style=\"text-align: right;\">\n",
       "      <th></th>\n",
       "      <th>Date</th>\n",
       "      <th>A</th>\n",
       "      <th>B</th>\n",
       "      <th>C</th>\n",
       "      <th>D</th>\n",
       "      <th>E</th>\n",
       "      <th>F</th>\n",
       "      <th>G</th>\n",
       "      <th>H</th>\n",
       "      <th>I</th>\n",
       "      <th>J</th>\n",
       "    </tr>\n",
       "  </thead>\n",
       "  <tbody>\n",
       "    <tr>\n",
       "      <th>8450</th>\n",
       "      <td>1962-01-02</td>\n",
       "      <td>NaN</td>\n",
       "      <td>0.202636</td>\n",
       "      <td>NaN</td>\n",
       "      <td>0.059620</td>\n",
       "      <td>NaN</td>\n",
       "      <td>NaN</td>\n",
       "      <td>NaN</td>\n",
       "      <td>NaN</td>\n",
       "      <td>NaN</td>\n",
       "      <td>NaN</td>\n",
       "    </tr>\n",
       "    <tr>\n",
       "      <th>8451</th>\n",
       "      <td>1962-01-03</td>\n",
       "      <td>NaN</td>\n",
       "      <td>0.206688</td>\n",
       "      <td>NaN</td>\n",
       "      <td>0.060421</td>\n",
       "      <td>NaN</td>\n",
       "      <td>NaN</td>\n",
       "      <td>NaN</td>\n",
       "      <td>NaN</td>\n",
       "      <td>NaN</td>\n",
       "      <td>NaN</td>\n",
       "    </tr>\n",
       "    <tr>\n",
       "      <th>8452</th>\n",
       "      <td>1962-01-04</td>\n",
       "      <td>NaN</td>\n",
       "      <td>0.204662</td>\n",
       "      <td>NaN</td>\n",
       "      <td>0.060421</td>\n",
       "      <td>NaN</td>\n",
       "      <td>NaN</td>\n",
       "      <td>NaN</td>\n",
       "      <td>NaN</td>\n",
       "      <td>NaN</td>\n",
       "      <td>NaN</td>\n",
       "    </tr>\n",
       "    <tr>\n",
       "      <th>8453</th>\n",
       "      <td>1962-01-05</td>\n",
       "      <td>NaN</td>\n",
       "      <td>0.200609</td>\n",
       "      <td>NaN</td>\n",
       "      <td>0.060621</td>\n",
       "      <td>NaN</td>\n",
       "      <td>NaN</td>\n",
       "      <td>NaN</td>\n",
       "      <td>NaN</td>\n",
       "      <td>NaN</td>\n",
       "      <td>NaN</td>\n",
       "    </tr>\n",
       "    <tr>\n",
       "      <th>8454</th>\n",
       "      <td>1962-01-08</td>\n",
       "      <td>NaN</td>\n",
       "      <td>0.201116</td>\n",
       "      <td>NaN</td>\n",
       "      <td>0.060421</td>\n",
       "      <td>NaN</td>\n",
       "      <td>NaN</td>\n",
       "      <td>NaN</td>\n",
       "      <td>NaN</td>\n",
       "      <td>NaN</td>\n",
       "      <td>NaN</td>\n",
       "    </tr>\n",
       "  </tbody>\n",
       "</table>\n",
       "</div>"
      ],
      "text/plain": [
       "            Date   A         B   C         D   E   F   G   H   I   J\n",
       "8450  1962-01-02 NaN  0.202636 NaN  0.059620 NaN NaN NaN NaN NaN NaN\n",
       "8451  1962-01-03 NaN  0.206688 NaN  0.060421 NaN NaN NaN NaN NaN NaN\n",
       "8452  1962-01-04 NaN  0.204662 NaN  0.060421 NaN NaN NaN NaN NaN NaN\n",
       "8453  1962-01-05 NaN  0.200609 NaN  0.060621 NaN NaN NaN NaN NaN NaN\n",
       "8454  1962-01-08 NaN  0.201116 NaN  0.060421 NaN NaN NaN NaN NaN NaN"
      ]
     },
     "execution_count": 1,
     "metadata": {},
     "output_type": "execute_result"
    }
   ],
   "source": [
    "import pandas as pd\n",
    "import string\n",
    "\n",
    "raw_prices = pd.DataFrame(columns=['Date'])\n",
    "stock_names = string.ascii_uppercase[:10]\n",
    "\n",
    "for stock_name in stock_names:\n",
    "    raw_data = pd.read_csv('data/'+stock_name+'.csv')[['Date','Adj Close']]\n",
    "    raw_data.rename(columns={'Adj Close':stock_name},inplace=True)\n",
    "    raw_data.dropna(inplace=True)\n",
    "    raw_prices = pd.merge(raw_prices,raw_data,how='outer',on='Date')\n",
    "    \n",
    "raw_prices.sort_values(by='Date',inplace=True)\n",
    "raw_prices.head()"
   ]
  },
  {
   "cell_type": "markdown",
   "metadata": {},
   "source": [
    "We can see that some of the assets had prices back in the 60's but that many didn't. Let's keep dates for which we have data for every stock. We could also have done inner joins, but, first, we wanted to show the complete picture. (We leave it to the reader as an exercise do write inner joins.)"
   ]
  },
  {
   "cell_type": "code",
   "execution_count": 2,
   "metadata": {},
   "outputs": [
    {
     "data": {
      "text/html": [
       "<div>\n",
       "<table border=\"1\" class=\"dataframe\">\n",
       "  <thead>\n",
       "    <tr style=\"text-align: right;\">\n",
       "      <th></th>\n",
       "      <th>Date</th>\n",
       "      <th>A</th>\n",
       "      <th>B</th>\n",
       "      <th>C</th>\n",
       "      <th>D</th>\n",
       "      <th>E</th>\n",
       "      <th>F</th>\n",
       "      <th>G</th>\n",
       "      <th>H</th>\n",
       "      <th>I</th>\n",
       "      <th>J</th>\n",
       "    </tr>\n",
       "  </thead>\n",
       "  <tbody>\n",
       "    <tr>\n",
       "      <th>1550</th>\n",
       "      <td>1990-02-16</td>\n",
       "      <td>3.657441</td>\n",
       "      <td>12.040095</td>\n",
       "      <td>0.064382</td>\n",
       "      <td>6.770798</td>\n",
       "      <td>4.859589</td>\n",
       "      <td>0.456696</td>\n",
       "      <td>3.713418</td>\n",
       "      <td>1.243683</td>\n",
       "      <td>0.841391</td>\n",
       "      <td>3.756277</td>\n",
       "    </tr>\n",
       "    <tr>\n",
       "      <th>1551</th>\n",
       "      <td>1990-02-20</td>\n",
       "      <td>3.556310</td>\n",
       "      <td>11.776785</td>\n",
       "      <td>0.066552</td>\n",
       "      <td>6.647411</td>\n",
       "      <td>4.784537</td>\n",
       "      <td>0.467182</td>\n",
       "      <td>3.615980</td>\n",
       "      <td>1.222314</td>\n",
       "      <td>0.815098</td>\n",
       "      <td>3.688598</td>\n",
       "    </tr>\n",
       "    <tr>\n",
       "      <th>1552</th>\n",
       "      <td>1990-02-21</td>\n",
       "      <td>3.539457</td>\n",
       "      <td>11.585296</td>\n",
       "      <td>0.065105</td>\n",
       "      <td>6.593432</td>\n",
       "      <td>4.690724</td>\n",
       "      <td>0.447959</td>\n",
       "      <td>3.605154</td>\n",
       "      <td>1.260778</td>\n",
       "      <td>0.817727</td>\n",
       "      <td>3.637836</td>\n",
       "    </tr>\n",
       "    <tr>\n",
       "      <th>1553</th>\n",
       "      <td>1990-02-22</td>\n",
       "      <td>3.488895</td>\n",
       "      <td>11.609239</td>\n",
       "      <td>0.065829</td>\n",
       "      <td>6.562585</td>\n",
       "      <td>4.690724</td>\n",
       "      <td>0.449124</td>\n",
       "      <td>3.551025</td>\n",
       "      <td>1.291745</td>\n",
       "      <td>0.815098</td>\n",
       "      <td>3.595536</td>\n",
       "    </tr>\n",
       "    <tr>\n",
       "      <th>1554</th>\n",
       "      <td>1990-02-23</td>\n",
       "      <td>3.438330</td>\n",
       "      <td>11.489553</td>\n",
       "      <td>0.065467</td>\n",
       "      <td>6.462332</td>\n",
       "      <td>4.615672</td>\n",
       "      <td>0.454366</td>\n",
       "      <td>3.518545</td>\n",
       "      <td>1.253250</td>\n",
       "      <td>0.809839</td>\n",
       "      <td>3.527858</td>\n",
       "    </tr>\n",
       "  </tbody>\n",
       "</table>\n",
       "</div>"
      ],
      "text/plain": [
       "            Date         A          B         C         D         E         F  \\\n",
       "1550  1990-02-16  3.657441  12.040095  0.064382  6.770798  4.859589  0.456696   \n",
       "1551  1990-02-20  3.556310  11.776785  0.066552  6.647411  4.784537  0.467182   \n",
       "1552  1990-02-21  3.539457  11.585296  0.065105  6.593432  4.690724  0.447959   \n",
       "1553  1990-02-22  3.488895  11.609239  0.065829  6.562585  4.690724  0.449124   \n",
       "1554  1990-02-23  3.438330  11.489553  0.065467  6.462332  4.615672  0.454366   \n",
       "\n",
       "             G         H         I         J  \n",
       "1550  3.713418  1.243683  0.841391  3.756277  \n",
       "1551  3.615980  1.222314  0.815098  3.688598  \n",
       "1552  3.605154  1.260778  0.817727  3.637836  \n",
       "1553  3.551025  1.291745  0.815098  3.595536  \n",
       "1554  3.518545  1.253250  0.809839  3.527858  "
      ]
     },
     "execution_count": 2,
     "metadata": {},
     "output_type": "execute_result"
    }
   ],
   "source": [
    "raw_prices.dropna(inplace=True)\n",
    "raw_prices.head()"
   ]
  },
  {
   "cell_type": "code",
   "execution_count": 3,
   "metadata": {},
   "outputs": [
    {
     "data": {
      "text/html": [
       "<div>\n",
       "<table border=\"1\" class=\"dataframe\">\n",
       "  <thead>\n",
       "    <tr style=\"text-align: right;\">\n",
       "      <th></th>\n",
       "      <th>Date</th>\n",
       "      <th>A</th>\n",
       "      <th>B</th>\n",
       "      <th>C</th>\n",
       "      <th>D</th>\n",
       "      <th>E</th>\n",
       "      <th>F</th>\n",
       "      <th>G</th>\n",
       "      <th>H</th>\n",
       "      <th>I</th>\n",
       "      <th>J</th>\n",
       "    </tr>\n",
       "  </thead>\n",
       "  <tbody>\n",
       "    <tr>\n",
       "      <th>8444</th>\n",
       "      <td>2017-06-28</td>\n",
       "      <td>89.328644</td>\n",
       "      <td>199.619995</td>\n",
       "      <td>31.783060</td>\n",
       "      <td>106.070923</td>\n",
       "      <td>154.300003</td>\n",
       "      <td>69.800003</td>\n",
       "      <td>76.510002</td>\n",
       "      <td>153.229996</td>\n",
       "      <td>34.200001</td>\n",
       "      <td>133.820007</td>\n",
       "    </tr>\n",
       "    <tr>\n",
       "      <th>8445</th>\n",
       "      <td>2017-06-29</td>\n",
       "      <td>90.651367</td>\n",
       "      <td>197.460007</td>\n",
       "      <td>31.119259</td>\n",
       "      <td>104.929413</td>\n",
       "      <td>153.130005</td>\n",
       "      <td>68.489998</td>\n",
       "      <td>75.930000</td>\n",
       "      <td>152.160004</td>\n",
       "      <td>33.540001</td>\n",
       "      <td>132.639999</td>\n",
       "    </tr>\n",
       "    <tr>\n",
       "      <th>8446</th>\n",
       "      <td>2017-06-30</td>\n",
       "      <td>90.900002</td>\n",
       "      <td>197.750000</td>\n",
       "      <td>31.010277</td>\n",
       "      <td>105.465424</td>\n",
       "      <td>153.160004</td>\n",
       "      <td>68.930000</td>\n",
       "      <td>75.680000</td>\n",
       "      <td>153.399994</td>\n",
       "      <td>33.740002</td>\n",
       "      <td>132.289993</td>\n",
       "    </tr>\n",
       "    <tr>\n",
       "      <th>8447</th>\n",
       "      <td>2017-07-03</td>\n",
       "      <td>92.750000</td>\n",
       "      <td>198.589996</td>\n",
       "      <td>31.039999</td>\n",
       "      <td>106.666489</td>\n",
       "      <td>152.500000</td>\n",
       "      <td>68.169998</td>\n",
       "      <td>75.360001</td>\n",
       "      <td>154.009995</td>\n",
       "      <td>33.459999</td>\n",
       "      <td>132.899994</td>\n",
       "    </tr>\n",
       "    <tr>\n",
       "      <th>8449</th>\n",
       "      <td>2017-07-06</td>\n",
       "      <td>93.379997</td>\n",
       "      <td>201.479996</td>\n",
       "      <td>30.719999</td>\n",
       "      <td>103.349998</td>\n",
       "      <td>153.089996</td>\n",
       "      <td>68.570000</td>\n",
       "      <td>75.470001</td>\n",
       "      <td>152.050003</td>\n",
       "      <td>33.630001</td>\n",
       "      <td>132.520004</td>\n",
       "    </tr>\n",
       "  </tbody>\n",
       "</table>\n",
       "</div>"
      ],
      "text/plain": [
       "            Date          A           B          C           D           E  \\\n",
       "8444  2017-06-28  89.328644  199.619995  31.783060  106.070923  154.300003   \n",
       "8445  2017-06-29  90.651367  197.460007  31.119259  104.929413  153.130005   \n",
       "8446  2017-06-30  90.900002  197.750000  31.010277  105.465424  153.160004   \n",
       "8447  2017-07-03  92.750000  198.589996  31.039999  106.666489  152.500000   \n",
       "8449  2017-07-06  93.379997  201.479996  30.719999  103.349998  153.089996   \n",
       "\n",
       "              F          G           H          I           J  \n",
       "8444  69.800003  76.510002  153.229996  34.200001  133.820007  \n",
       "8445  68.489998  75.930000  152.160004  33.540001  132.639999  \n",
       "8446  68.930000  75.680000  153.399994  33.740002  132.289993  \n",
       "8447  68.169998  75.360001  154.009995  33.459999  132.899994  \n",
       "8449  68.570000  75.470001  152.050003  33.630001  132.520004  "
      ]
     },
     "execution_count": 3,
     "metadata": {},
     "output_type": "execute_result"
    }
   ],
   "source": [
    "raw_prices.tail()"
   ]
  },
  {
   "cell_type": "markdown",
   "metadata": {},
   "source": [
    "This seems better. Let's constrain our analysis from Mar 1, 1990, to Jun 31, 2017, in order to have complete calendar year quarters. (We leave as an exercise to the reader to make sure that we have data for every trading day in that period.)"
   ]
  },
  {
   "cell_type": "code",
   "execution_count": 4,
   "metadata": {},
   "outputs": [
    {
     "data": {
      "text/html": [
       "<div>\n",
       "<table border=\"1\" class=\"dataframe\">\n",
       "  <thead>\n",
       "    <tr style=\"text-align: right;\">\n",
       "      <th></th>\n",
       "      <th>Date</th>\n",
       "      <th>A</th>\n",
       "      <th>B</th>\n",
       "      <th>C</th>\n",
       "      <th>D</th>\n",
       "      <th>E</th>\n",
       "      <th>F</th>\n",
       "      <th>G</th>\n",
       "      <th>H</th>\n",
       "      <th>I</th>\n",
       "      <th>J</th>\n",
       "    </tr>\n",
       "  </thead>\n",
       "  <tbody>\n",
       "    <tr>\n",
       "      <th>1558</th>\n",
       "      <td>1990-03-01</td>\n",
       "      <td>3.43833</td>\n",
       "      <td>12.447020</td>\n",
       "      <td>0.066552</td>\n",
       "      <td>6.670546</td>\n",
       "      <td>4.739837</td>\n",
       "      <td>0.466017</td>\n",
       "      <td>3.864985</td>\n",
       "      <td>1.364459</td>\n",
       "      <td>0.854538</td>\n",
       "      <td>3.654757</td>\n",
       "    </tr>\n",
       "    <tr>\n",
       "      <th>1559</th>\n",
       "      <td>1990-03-02</td>\n",
       "      <td>3.50575</td>\n",
       "      <td>12.423082</td>\n",
       "      <td>0.067275</td>\n",
       "      <td>6.732243</td>\n",
       "      <td>4.777454</td>\n",
       "      <td>0.483492</td>\n",
       "      <td>3.908290</td>\n",
       "      <td>1.364459</td>\n",
       "      <td>0.857166</td>\n",
       "      <td>3.722438</td>\n",
       "    </tr>\n",
       "  </tbody>\n",
       "</table>\n",
       "</div>"
      ],
      "text/plain": [
       "            Date        A          B         C         D         E         F  \\\n",
       "1558  1990-03-01  3.43833  12.447020  0.066552  6.670546  4.739837  0.466017   \n",
       "1559  1990-03-02  3.50575  12.423082  0.067275  6.732243  4.777454  0.483492   \n",
       "\n",
       "             G         H         I         J  \n",
       "1558  3.864985  1.364459  0.854538  3.654757  \n",
       "1559  3.908290  1.364459  0.857166  3.722438  "
      ]
     },
     "execution_count": 4,
     "metadata": {},
     "output_type": "execute_result"
    }
   ],
   "source": [
    "raw_prices = raw_prices[(raw_prices.Date>'1990-03') & (raw_prices.Date<'2017-07')]\n",
    "raw_prices.head(2)"
   ]
  },
  {
   "cell_type": "code",
   "execution_count": 5,
   "metadata": {},
   "outputs": [
    {
     "data": {
      "text/html": [
       "<div>\n",
       "<table border=\"1\" class=\"dataframe\">\n",
       "  <thead>\n",
       "    <tr style=\"text-align: right;\">\n",
       "      <th></th>\n",
       "      <th>Date</th>\n",
       "      <th>A</th>\n",
       "      <th>B</th>\n",
       "      <th>C</th>\n",
       "      <th>D</th>\n",
       "      <th>E</th>\n",
       "      <th>F</th>\n",
       "      <th>G</th>\n",
       "      <th>H</th>\n",
       "      <th>I</th>\n",
       "      <th>J</th>\n",
       "    </tr>\n",
       "  </thead>\n",
       "  <tbody>\n",
       "    <tr>\n",
       "      <th>8445</th>\n",
       "      <td>2017-06-29</td>\n",
       "      <td>90.651367</td>\n",
       "      <td>197.460007</td>\n",
       "      <td>31.119259</td>\n",
       "      <td>104.929413</td>\n",
       "      <td>153.130005</td>\n",
       "      <td>68.489998</td>\n",
       "      <td>75.93</td>\n",
       "      <td>152.160004</td>\n",
       "      <td>33.540001</td>\n",
       "      <td>132.639999</td>\n",
       "    </tr>\n",
       "    <tr>\n",
       "      <th>8446</th>\n",
       "      <td>2017-06-30</td>\n",
       "      <td>90.900002</td>\n",
       "      <td>197.750000</td>\n",
       "      <td>31.010277</td>\n",
       "      <td>105.465424</td>\n",
       "      <td>153.160004</td>\n",
       "      <td>68.930000</td>\n",
       "      <td>75.68</td>\n",
       "      <td>153.399994</td>\n",
       "      <td>33.740002</td>\n",
       "      <td>132.289993</td>\n",
       "    </tr>\n",
       "  </tbody>\n",
       "</table>\n",
       "</div>"
      ],
      "text/plain": [
       "            Date          A           B          C           D           E  \\\n",
       "8445  2017-06-29  90.651367  197.460007  31.119259  104.929413  153.130005   \n",
       "8446  2017-06-30  90.900002  197.750000  31.010277  105.465424  153.160004   \n",
       "\n",
       "              F      G           H          I           J  \n",
       "8445  68.489998  75.93  152.160004  33.540001  132.639999  \n",
       "8446  68.930000  75.68  153.399994  33.740002  132.289993  "
      ]
     },
     "execution_count": 5,
     "metadata": {},
     "output_type": "execute_result"
    }
   ],
   "source": [
    "raw_prices.tail(2)"
   ]
  },
  {
   "cell_type": "markdown",
   "metadata": {},
   "source": [
    "For simplicity, let's pretend that our portfolio consists of one share of each stock."
   ]
  },
  {
   "cell_type": "code",
   "execution_count": 6,
   "metadata": {},
   "outputs": [
    {
     "data": {
      "text/html": [
       "<div>\n",
       "<table border=\"1\" class=\"dataframe\">\n",
       "  <thead>\n",
       "    <tr style=\"text-align: right;\">\n",
       "      <th></th>\n",
       "      <th>Date</th>\n",
       "      <th>Close</th>\n",
       "    </tr>\n",
       "  </thead>\n",
       "  <tbody>\n",
       "    <tr>\n",
       "      <th>0</th>\n",
       "      <td>1990-03-01</td>\n",
       "      <td>37.567041</td>\n",
       "    </tr>\n",
       "    <tr>\n",
       "      <th>1</th>\n",
       "      <td>1990-03-02</td>\n",
       "      <td>37.841649</td>\n",
       "    </tr>\n",
       "    <tr>\n",
       "      <th>2</th>\n",
       "      <td>1990-03-05</td>\n",
       "      <td>37.961847</td>\n",
       "    </tr>\n",
       "    <tr>\n",
       "      <th>3</th>\n",
       "      <td>1990-03-06</td>\n",
       "      <td>38.351505</td>\n",
       "    </tr>\n",
       "    <tr>\n",
       "      <th>4</th>\n",
       "      <td>1990-03-07</td>\n",
       "      <td>38.399774</td>\n",
       "    </tr>\n",
       "  </tbody>\n",
       "</table>\n",
       "</div>"
      ],
      "text/plain": [
       "         Date      Close\n",
       "0  1990-03-01  37.567041\n",
       "1  1990-03-02  37.841649\n",
       "2  1990-03-05  37.961847\n",
       "3  1990-03-06  38.351505\n",
       "4  1990-03-07  38.399774"
      ]
     },
     "execution_count": 6,
     "metadata": {},
     "output_type": "execute_result"
    }
   ],
   "source": [
    "raw_prices['Close'] = raw_prices[list(stock_names)].sum(axis=1)\n",
    "portfolio = raw_prices.reset_index()[['Date','Close']].copy()\n",
    "portfolio.head()"
   ]
  },
  {
   "cell_type": "markdown",
   "metadata": {},
   "source": [
    "## Plotting the data"
   ]
  },
  {
   "cell_type": "code",
   "execution_count": 7,
   "metadata": {},
   "outputs": [
    {
     "name": "stderr",
     "output_type": "stream",
     "text": [
      "/usr/local/lib/python2.7/dist-packages/IPython/html.py:14: ShimWarning: The `IPython.html` package has been deprecated since IPython 4.0. You should import from `notebook` instead. `IPython.html.widgets` has moved to `ipywidgets`.\n",
      "  \"`IPython.html.widgets` has moved to `ipywidgets`.\", ShimWarning)\n"
     ]
    }
   ],
   "source": [
    "import matplotlib.pyplot as plt\n",
    "import numpy as np\n",
    "%matplotlib inline\n",
    "import seaborn as sns"
   ]
  },
  {
   "cell_type": "code",
   "execution_count": 8,
   "metadata": {},
   "outputs": [
    {
     "data": {
      "text/plain": [
       "<matplotlib.text.Text at 0x7f882b49ef50>"
      ]
     },
     "execution_count": 8,
     "metadata": {},
     "output_type": "execute_result"
    },
    {
     "data": {
      "image/png": "[encoded data removed]",
      "text/plain": [
       "<matplotlib.figure.Figure at 0x7f882d4e7b50>"
      ]
     },
     "metadata": {},
     "output_type": "display_data"
    }
   ],
   "source": [
    "f, ax = plt.subplots(figsize=(12, 6))\n",
    "sns.set(color_codes=True)\n",
    "sns.tsplot(data=portfolio.Close, ax=ax)\n",
    "\n",
    "xticks = range(0,len(portfolio),365*2)\n",
    "ax.set_xticks(xticks)\n",
    "ax.set_xticklabels([pd.to_datetime(portfolio.Date).dt.date[i] for i in xticks], rotation=90)\n",
    "ax.set_ylabel('Portfolio - Closing value ')\n"
   ]
  },
  {
   "cell_type": "markdown",
   "metadata": {},
   "source": [
    "## Computing returns and squared returns"
   ]
  },
  {
   "cell_type": "code",
   "execution_count": 9,
   "metadata": {},
   "outputs": [
    {
     "data": {
      "text/html": [
       "<div>\n",
       "<table border=\"1\" class=\"dataframe\">\n",
       "  <thead>\n",
       "    <tr style=\"text-align: right;\">\n",
       "      <th></th>\n",
       "      <th>Date</th>\n",
       "      <th>Close</th>\n",
       "      <th>Return</th>\n",
       "      <th>R2</th>\n",
       "    </tr>\n",
       "  </thead>\n",
       "  <tbody>\n",
       "    <tr>\n",
       "      <th>6884</th>\n",
       "      <td>2017-06-26</td>\n",
       "      <td>1045.294773</td>\n",
       "      <td>-0.001264</td>\n",
       "      <td>0.000002</td>\n",
       "    </tr>\n",
       "    <tr>\n",
       "      <th>6885</th>\n",
       "      <td>2017-06-27</td>\n",
       "      <td>1042.395983</td>\n",
       "      <td>-0.002777</td>\n",
       "      <td>0.000008</td>\n",
       "    </tr>\n",
       "    <tr>\n",
       "      <th>6886</th>\n",
       "      <td>2017-06-28</td>\n",
       "      <td>1048.662634</td>\n",
       "      <td>0.005994</td>\n",
       "      <td>0.000036</td>\n",
       "    </tr>\n",
       "    <tr>\n",
       "      <th>6887</th>\n",
       "      <td>2017-06-29</td>\n",
       "      <td>1040.050053</td>\n",
       "      <td>-0.008247</td>\n",
       "      <td>0.000068</td>\n",
       "    </tr>\n",
       "    <tr>\n",
       "      <th>6888</th>\n",
       "      <td>2017-06-30</td>\n",
       "      <td>1042.325696</td>\n",
       "      <td>0.002186</td>\n",
       "      <td>0.000005</td>\n",
       "    </tr>\n",
       "  </tbody>\n",
       "</table>\n",
       "</div>"
      ],
      "text/plain": [
       "            Date        Close    Return        R2\n",
       "6884  2017-06-26  1045.294773 -0.001264  0.000002\n",
       "6885  2017-06-27  1042.395983 -0.002777  0.000008\n",
       "6886  2017-06-28  1048.662634  0.005994  0.000036\n",
       "6887  2017-06-29  1040.050053 -0.008247  0.000068\n",
       "6888  2017-06-30  1042.325696  0.002186  0.000005"
      ]
     },
     "execution_count": 9,
     "metadata": {},
     "output_type": "execute_result"
    }
   ],
   "source": [
    "portfolio['Return'] = np.log(portfolio.Close / portfolio.Close.shift())\n",
    "portfolio['R2'] = np.square(portfolio['Return'])\n",
    "portfolio.tail()"
   ]
  },
  {
   "cell_type": "markdown",
   "metadata": {},
   "source": [
    "Note that we use the daily continuously compounded return (log return) instead of the daily simple rate of return as given by the pct_change method:"
   ]
  },
  {
   "cell_type": "code",
   "execution_count": 10,
   "metadata": {},
   "outputs": [
    {
     "data": {
      "text/plain": [
       "6884   -0.001263\n",
       "6885   -0.002773\n",
       "6886    0.006012\n",
       "6887   -0.008213\n",
       "6888    0.002188\n",
       "Name: Close, dtype: float64"
      ]
     },
     "execution_count": 10,
     "metadata": {},
     "output_type": "execute_result"
    }
   ],
   "source": [
    "portfolio.Close.pct_change().tail()"
   ]
  },
  {
   "cell_type": "markdown",
   "metadata": {},
   "source": [
    "Both returns appear relatively similar. However, they both have their pros and cons. The main reason we prefer to use the log return is that we can calculate the compounded return over a specific horizon by adding the daily returns. This simple fact facilitates the development of models.\n"
   ]
  },
  {
   "cell_type": "markdown",
   "metadata": {},
   "source": [
    "## Autocorrelation\n",
    "\n",
    "The autocorrelation is the correlation of a series with a delayed, or shifted, copy of itself. It is a useful tool for detecting linear dynamics in time series analysis.\n",
    "\n",
    "Let's look at the autocorrelation of daily returns."
   ]
  },
  {
   "cell_type": "code",
   "execution_count": 11,
   "metadata": {
    "collapsed": true
   },
   "outputs": [],
   "source": [
    "def plot_autocorrelation(returns, y_label,zero_line=False):\n",
    "    lags = np.arange(1,101)\n",
    "    return_autocorr = [returns.autocorr(lag=lag) for lag in lags]\n",
    "\n",
    "    f, ax = plt.subplots(figsize=(12, 6))\n",
    "    sns.set(color_codes=True)\n",
    "    sns.tsplot(data=return_autocorr, time=lags, ax=ax)\n",
    "    ax.set_xticks(np.arange(lags[0]-1,lags[-1]+1,10))\n",
    "    ax.set_xlabel('Lag order')\n",
    "    ax.set_ylabel(y_label)\n",
    "    if(zero_line):\n",
    "        plt.plot([lags[0],lags[-1]], [0,0], 'b')"
   ]
  },
  {
   "cell_type": "code",
   "execution_count": 12,
   "metadata": {},
   "outputs": [
    {
     "data": {
      "image/png": "[encoded data removed]",
      "text/plain": [
       "<matplotlib.figure.Figure at 0x7f8862cb2f50>"
      ]
     },
     "metadata": {},
     "output_type": "display_data"
    }
   ],
   "source": [
    "plot_autocorrelation(portfolio.Return, 'Autocorrelation of daily returns',zero_line=True)"
   ]
  },
  {
   "cell_type": "markdown",
   "metadata": {},
   "source": [
    "We see that there is very little autocorrelation for daily returns of the S&P 500 over this period. Let's look at the autocorrelation of the squared returns."
   ]
  },
  {
   "cell_type": "code",
   "execution_count": 13,
   "metadata": {},
   "outputs": [
    {
     "data": {
      "image/png": "[encoded data removed]",
      "text/plain": [
       "<matplotlib.figure.Figure at 0x7f882b360610>"
      ]
     },
     "metadata": {},
     "output_type": "display_data"
    }
   ],
   "source": [
    "plot_autocorrelation(portfolio.R2, 'Autocorrelation of squared daily returns')"
   ]
  },
  {
   "cell_type": "markdown",
   "metadata": {},
   "source": [
    "We notice a fair amount of autocorrelation of the squared returns."
   ]
  },
  {
   "cell_type": "markdown",
   "metadata": {},
   "source": [
    "## GARCH(1,1)"
   ]
  },
  {
   "cell_type": "markdown",
   "metadata": {},
   "source": [
    "For the purpose of this tutorial, let's first build our own model. In this model, we consider one lag of returns squared and one lag of variance (1,1)."
   ]
  },
  {
   "cell_type": "code",
   "execution_count": 14,
   "metadata": {
    "collapsed": true
   },
   "outputs": [],
   "source": [
    "import scipy.optimize as opt\n",
    "\n",
    "def compute_omega(factor,alpha,beta):\n",
    "    persistence = alpha + beta\n",
    "    return factor *(1-persistence)        \n",
    "    \n",
    "def compute_cond_var(data,initial_value,alpha,beta,omega=None):\n",
    "    if omega is None:\n",
    "        omega = compute_omega(initial_value,alpha,beta)\n",
    "    cond_var = np.array([initial_value], dtype=np.float64)\n",
    "    for time in range(1,len(data)):\n",
    "        cond_var = np.append(cond_var,(omega +beta*cond_var[time-1]+alpha*data[time]**2))\n",
    "    return cond_var"
   ]
  },
  {
   "cell_type": "code",
   "execution_count": 15,
   "metadata": {},
   "outputs": [
    {
     "name": "stderr",
     "output_type": "stream",
     "text": [
      "/usr/local/lib/python2.7/dist-packages/ipykernel_launcher.py:3: RuntimeWarning: invalid value encountered in log\n",
      "  This is separate from the ipykernel package so we can avoid doing imports until\n"
     ]
    },
    {
     "data": {
      "text/plain": [
       "      fun: -28107.387398143728\n",
       " hess_inv: <2x2 LbfgsInvHessProduct with dtype=float64>\n",
       "      jac: array([ 0.11132215,  0.08949428])\n",
       "  message: 'CONVERGENCE: REL_REDUCTION_OF_F_<=_FACTR*EPSMCH'\n",
       "     nfev: 54\n",
       "      nit: 10\n",
       "   status: 0\n",
       "  success: True\n",
       "        x: array([ 0.08210269,  0.908509  ])"
      ]
     },
     "execution_count": 15,
     "metadata": {},
     "output_type": "execute_result"
    }
   ],
   "source": [
    "def fn(x, df, r_var):\n",
    "    sig_2 = compute_cond_var(df.Return,r_var,x[0],x[1])[:-1]\n",
    "    return (np.log(sig_2)+df.R2[1:]/sig_2).sum()*1/2\n",
    "\n",
    "res = opt.minimize(fn, [0.08,0.82], bounds=[[0,1],[0,1]], \n",
    "                    args=(portfolio, portfolio.Return.std()**2))\n",
    "res"
   ]
  },
  {
   "cell_type": "code",
   "execution_count": 16,
   "metadata": {},
   "outputs": [
    {
     "data": {
      "text/plain": [
       "array([  1.46845582e-04,   1.39144331e-04,   1.28618231e-04, ...,\n",
       "         3.01296863e-05,   3.43355444e-05,   3.29649827e-05])"
      ]
     },
     "execution_count": 16,
     "metadata": {},
     "output_type": "execute_result"
    }
   ],
   "source": [
    "compute_cond_var(portfolio.Return,portfolio.Return.std()**2,res.x[0],res.x[1])"
   ]
  },
  {
   "cell_type": "markdown",
   "metadata": {},
   "source": [
    "It turns out that a python library exists for such models. Let's use it to build a GARCH(1,1) model and compare it to our own model."
   ]
  },
  {
   "cell_type": "code",
   "execution_count": 17,
   "metadata": {},
   "outputs": [
    {
     "name": "stdout",
     "output_type": "stream",
     "text": [
      "Iteration:      5,   Func. Count:     39,   Neg. LLF: 9921.63392772\n",
      "Iteration:     10,   Func. Count:     72,   Neg. LLF: 9918.29018018\n",
      "Optimization terminated successfully.    (Exit mode 0)\n",
      "            Current function value: 9918.28947529\n",
      "            Iterations: 12\n",
      "            Function evaluations: 84\n",
      "            Gradient evaluations: 12\n",
      "                     Constant Mean - GARCH Model Results                      \n",
      "==============================================================================\n",
      "Dep. Variable:                 Return   R-squared:                      -0.000\n",
      "Mean Model:             Constant Mean   Adj. R-squared:                 -0.000\n",
      "Vol Model:                      GARCH   Log-Likelihood:               -9918.29\n",
      "Distribution:                  Normal   AIC:                           19844.6\n",
      "Method:            Maximum Likelihood   BIC:                           19871.9\n",
      "                                        No. Observations:                 6888\n",
      "Date:                Fri, Jul 07 2017   Df Residuals:                     6884\n",
      "Time:                        14:03:58   Df Model:                            4\n",
      "                                 Mean Model                                 \n",
      "============================================================================\n",
      "                 coef    std err          t      P>|t|      95.0% Conf. Int.\n",
      "----------------------------------------------------------------------------\n",
      "mu             0.0730  1.064e-02      6.863  6.743e-12 [5.219e-02,9.391e-02]\n",
      "                              Volatility Model                              \n",
      "============================================================================\n",
      "                 coef    std err          t      P>|t|      95.0% Conf. Int.\n",
      "----------------------------------------------------------------------------\n",
      "omega          0.0142  3.680e-03      3.853  1.166e-04 [6.966e-03,2.139e-02]\n",
      "alpha[1]       0.0864  1.305e-02      6.621  3.577e-11   [6.084e-02,  0.112]\n",
      "beta[1]        0.9048  1.371e-02     65.992      0.000     [  0.878,  0.932]\n",
      "============================================================================\n",
      "\n",
      "Covariance estimator: robust\n"
     ]
    }
   ],
   "source": [
    "from arch import arch_model\n",
    "garch = arch_model(100*portfolio.Return[1:],)\n",
    "res = garch.fit(update_freq=5)\n",
    "print(res.summary())"
   ]
  },
  {
   "cell_type": "code",
   "execution_count": 18,
   "metadata": {},
   "outputs": [
    {
     "data": {
      "text/plain": [
       "1.4177695568094985e-06"
      ]
     },
     "execution_count": 18,
     "metadata": {},
     "output_type": "execute_result"
    }
   ],
   "source": [
    "omega = res.params['omega']/(100**2)\n",
    "omega"
   ]
  },
  {
   "cell_type": "code",
   "execution_count": 19,
   "metadata": {},
   "outputs": [
    {
     "data": {
      "text/plain": [
       "array([  1.46845582e-04,   1.38870052e-04,   1.27938520e-04, ...,\n",
       "         3.00012610e-05,   3.44409699e-05,   3.29932817e-05])"
      ]
     },
     "execution_count": 19,
     "metadata": {},
     "output_type": "execute_result"
    }
   ],
   "source": [
    "compute_cond_var(portfolio.Return,portfolio.Return.std()**2,res.params['alpha[1]'],res.params['beta[1]'],omega)"
   ]
  },
  {
   "cell_type": "markdown",
   "metadata": {},
   "source": [
    "In the next tutorial, we will use this model to forecast 24-hour return volatilities."
   ]
  }
 ],
 "metadata": {
  "kernelspec": {
   "display_name": "Python 2",
   "language": "python",
   "name": "python2"
  },
  "language_info": {
   "codemirror_mode": {
    "name": "ipython",
    "version": 2
   },
   "file_extension": ".py",
   "mimetype": "text/x-python",
   "name": "python",
   "nbconvert_exporter": "python",
   "pygments_lexer": "ipython2",
   "version": "2.7.6"
  }
 },
 "nbformat": 4,
 "nbformat_minor": 2
}
